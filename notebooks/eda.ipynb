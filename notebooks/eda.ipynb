{
 "cells": [
  {
   "cell_type": "code",
   "execution_count": 6,
   "metadata": {},
   "outputs": [],
   "source": [
    "from collections import defaultdict\n",
    "\n",
    "from aste.data.readers import BankDataReader"
   ]
  },
  {
   "cell_type": "code",
   "execution_count": 7,
   "metadata": {},
   "outputs": [],
   "source": [
    "data = BankDataReader.from_file(\"/home/khaymonenko/aste/data/bank_3200/train_full.txt\")"
   ]
  },
  {
   "cell_type": "code",
   "execution_count": 8,
   "metadata": {},
   "outputs": [],
   "source": [
    "aspects = defaultdict(int)\n",
    "opinions = defaultdict(int)\n",
    "polarities = defaultdict(int)\n",
    "\n",
    "for sample in data:\n",
    "    for aspect in sample.aspects:\n",
    "        aspects[len(aspect.aspect_ids)] += 1\n",
    "        opinions[len(aspect.opinion_ids)] += 1\n",
    "        polarities[aspect.polarity] += 1"
   ]
  },
  {
   "cell_type": "code",
   "execution_count": 19,
   "metadata": {},
   "outputs": [
    {
     "data": {
      "text/plain": [
       "{'NEG': 0.28836398224476856,\n",
       " 'POS': 0.709575142675967,\n",
       " 'NEU': 0.002060875079264426}"
      ]
     },
     "execution_count": 19,
     "metadata": {},
     "output_type": "execute_result"
    }
   ],
   "source": [
    "{polarity: polarities[polarity] / sum(polarities.values()) for polarity in polarities}"
   ]
  },
  {
   "cell_type": "code",
   "execution_count": 20,
   "metadata": {},
   "outputs": [
    {
     "data": {
      "text/plain": [
       "{1: 0.9675015852885225,\n",
       " 2: 0.029486366518706404,\n",
       " 3: 0.0028535193405199747,\n",
       " 4: 0.0001585288522511097}"
      ]
     },
     "execution_count": 20,
     "metadata": {},
     "output_type": "execute_result"
    }
   ],
   "source": [
    "{aspect: aspects[aspect] / sum(aspects.values()) for aspect in aspects}"
   ]
  },
  {
   "cell_type": "code",
   "execution_count": 21,
   "metadata": {},
   "outputs": [
    {
     "data": {
      "text/plain": [
       "{2: 0.14933417882054534,\n",
       " 1: 0.8199112238427394,\n",
       " 5: 0.0023779327837666455,\n",
       " 3: 0.022986683576410906,\n",
       " 4: 0.0050729232720355105,\n",
       " 7: 0.0003170577045022194,\n",
       " 0: 0.0}"
      ]
     },
     "execution_count": 21,
     "metadata": {},
     "output_type": "execute_result"
    }
   ],
   "source": [
    "{opinion: opinions[opinion] / sum(opinions.values()) for opinion in opinions}"
   ]
  }
 ],
 "metadata": {
  "kernelspec": {
   "display_name": "Python 3",
   "language": "python",
   "name": "python3"
  },
  "language_info": {
   "codemirror_mode": {
    "name": "ipython",
    "version": 3
   },
   "file_extension": ".py",
   "mimetype": "text/x-python",
   "name": "python",
   "nbconvert_exporter": "python",
   "pygments_lexer": "ipython3",
   "version": "3.6.10"
  }
 },
 "nbformat": 4,
 "nbformat_minor": 2
}
