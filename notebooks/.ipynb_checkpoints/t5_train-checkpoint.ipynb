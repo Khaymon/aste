{
 "cells": [
  {
   "cell_type": "code",
   "execution_count": 1,
   "id": "84311206-de03-4826-9ae0-89b19ab042aa",
   "metadata": {},
   "outputs": [],
   "source": [
    "import sys\n",
    "sys.path.append(\"/home/khaymonenko/aste\")"
   ]
  },
  {
   "cell_type": "code",
   "execution_count": 2,
   "id": "d1b810a3-58e4-43a5-ae11-ab4cc79caa45",
   "metadata": {},
   "outputs": [
    {
     "name": "stderr",
     "output_type": "stream",
     "text": [
      "/home/khaymonenko/fairseq_virtualenv/lib/python3.10/site-packages/tqdm/auto.py:22: TqdmWarning: IProgress not found. Please update jupyter and ipywidgets. See https://ipywidgets.readthedocs.io/en/stable/user_install.html\n",
      "  from .autonotebook import tqdm as notebook_tqdm\n"
     ]
    }
   ],
   "source": [
    "import pytorch_lightning as pl\n",
    "import torch\n",
    "from transformers import GPT2Tokenizer, T5ForConditionalGeneration\n",
    "\n",
    "from aste.data.readers import BankDataReader\n",
    "from aste.train.data_providers import ModelDataset, ModelDatasetModule, ModelDatasetConfig\n",
    "from aste.train.models import T5Model\n",
    "\n",
    "from torch.multiprocessing import set_start_method\n",
    "set_start_method(\"spawn\")"
   ]
  },
  {
   "cell_type": "code",
   "execution_count": 3,
   "id": "72ba573c-95f1-4488-af9f-c4f89d154b75",
   "metadata": {},
   "outputs": [],
   "source": [
    "class Config:\n",
    "    TRAIN_PATH = \"/home/khaymonenko/aste/data/bank_3200/train_full.txt\"\n",
    "    DEV_PATH = \"/home/khaymonenko/aste/data/bank_3200/dev_full.txt\"\n",
    "    TEST_PATH = \"/home/khaymonenko/aste/data/bank_3200/test_full.txt\"\n",
    "\n",
    "    MODEL_NAME = \"ai-forever/FRED-T5-1.7B\"\n",
    "\n",
    "    INPUT_MAX_LEN = 24\n",
    "    OUTPUT_MAX_LEN = 24\n",
    "\n",
    "    TRAIN_BATCH_SIZE = 8\n",
    "    DEV_BATCH_SIZE = 2\n",
    "\n",
    "    NUM_WORKERS = 4\n",
    "\n",
    "    EPOCHS = 5"
   ]
  },
  {
   "cell_type": "code",
   "execution_count": 4,
   "id": "1c9cf9a9-e64b-47c9-9dbb-e57618259be7",
   "metadata": {},
   "outputs": [],
   "source": [
    "train_data = BankDataReader.from_file(Config.TRAIN_PATH)\n",
    "val_data = BankDataReader.from_file(Config.DEV_PATH)"
   ]
  },
  {
   "cell_type": "code",
   "execution_count": 5,
   "id": "b8265ecf-563e-442c-ac43-e3d169824ee9",
   "metadata": {},
   "outputs": [
    {
     "name": "stderr",
     "output_type": "stream",
     "text": [
      "Special tokens have been added in the vocabulary, make sure the associated word embeddings are fine-tuned or trained.\n"
     ]
    }
   ],
   "source": [
    "module_config = ModelDatasetConfig(\n",
    "    tokenizer=GPT2Tokenizer.from_pretrained(Config.MODEL_NAME),\n",
    "    train_batch_size=Config.TRAIN_BATCH_SIZE,\n",
    "    dev_batch_size=Config.DEV_BATCH_SIZE,\n",
    "    num_workers=Config.NUM_WORKERS,\n",
    "    source_max_len=Config.INPUT_MAX_LEN,\n",
    "    target_max_len=Config.OUTPUT_MAX_LEN,\n",
    ")\n",
    "\n",
    "dataset_module = ModelDatasetModule(train_data, val_data, module_config)"
   ]
  },
  {
   "cell_type": "code",
   "execution_count": null,
   "id": "5c1a9f67-e35b-4587-8026-54d20b9f12c3",
   "metadata": {},
   "outputs": [
    {
     "name": "stderr",
     "output_type": "stream",
     "text": [
      "GPU available: True (cuda), used: True\n",
      "TPU available: False, using: 0 TPU cores\n",
      "IPU available: False, using: 0 IPUs\n",
      "HPU available: False, using: 0 HPUs\n"
     ]
    }
   ],
   "source": [
    "model = T5Model(Config.MODEL_NAME)\n",
    "\n",
    "# checkpoint_callback  = ModelCheckpoint(\n",
    "#     dirpath=\"./\",\n",
    "#     filename=\"best_checkpoint\",\n",
    "#     save_top_k=2,\n",
    "#     verbose=True,\n",
    "#     monitor=\"val_loss\",\n",
    "#     mode=\"min\"\n",
    "# )\n",
    "\n",
    "trainer = pl.Trainer(\n",
    "    # callbacks = checkpoint_callback,\n",
    "    max_epochs=Config.EPOCHS,\n",
    "    devices=[0, 1],\n",
    "    accelerator=\"gpu\"\n",
    ")\n",
    "\n",
    "trainer.fit(model, dataset_module.train_dataloader(), dataset_module.val_dataloader())"
   ]
  }
 ],
 "metadata": {
  "kernelspec": {
   "display_name": "Python 3 (ipykernel)",
   "language": "python",
   "name": "python3"
  },
  "language_info": {
   "codemirror_mode": {
    "name": "ipython",
    "version": 3
   },
   "file_extension": ".py",
   "mimetype": "text/x-python",
   "name": "python",
   "nbconvert_exporter": "python",
   "pygments_lexer": "ipython3",
   "version": "3.10.8"
  }
 },
 "nbformat": 4,
 "nbformat_minor": 5
}
